{
 "cells": [
  {
   "cell_type": "markdown",
   "id": "de9ad993-51c0-4e85-b14e-cef83f5e0b28",
   "metadata": {},
   "source": [
    "### Extracting Tesla Stock Data Using yfinance"
   ]
  },
  {
   "cell_type": "code",
   "execution_count": 6,
   "id": "f83ad4fc-bc31-4a0e-8733-bfc250cf8f5b",
   "metadata": {},
   "outputs": [],
   "source": [
    "import yfinance as yf\n",
    "import pandas as pd"
   ]
  },
  {
   "cell_type": "markdown",
   "id": "28383d1b-2d42-4554-9c3d-ef8b7f531036",
   "metadata": {},
   "source": [
    "Using the ticker function to enter the ticker symbol of the stock we want to extract data on in this case which is the tesla stock with ticker symbol TSLA"
   ]
  },
  {
   "cell_type": "code",
   "execution_count": 7,
   "id": "9e45b751-8b63-416b-b050-e3893877a3cd",
   "metadata": {},
   "outputs": [],
   "source": [
    "tesla = yf.Ticker(\"TSLA\")"
   ]
  },
  {
   "cell_type": "markdown",
   "id": "a0ccbecf-8137-4979-80d0-8ad7b5613fb8",
   "metadata": {},
   "source": [
    "using the ticker object and the function history, extract stock information and save it in a dataframe named tesla_share_price_data. Set the period parameter to max so we get the information for the maximum amount of time."
   ]
  },
  {
   "cell_type": "code",
   "execution_count": 8,
   "id": "ed7febc9-8fdf-4a23-bb10-b227037c47bc",
   "metadata": {},
   "outputs": [],
   "source": [
    "tsla_stock_data = tesla.history(period=\"max\")"
   ]
  },
  {
   "cell_type": "markdown",
   "id": "f7c15fb9-5a92-43d5-a17f-ce6d9d1b6bbc",
   "metadata": {},
   "source": [
    "reset the index, save and display the first five rows of the tesla_share_price_data dataframe using the head function."
   ]
  },
  {
   "cell_type": "code",
   "execution_count": 9,
   "id": "f3aef8d5-9d4c-411d-a325-b56aa9996b7e",
   "metadata": {},
   "outputs": [],
   "source": [
    "tsla_stock_data.reset_index(inplace=True)"
   ]
  },
  {
   "cell_type": "code",
   "execution_count": 10,
   "id": "bc562ead-606f-4fdb-950b-a77d60efc69a",
   "metadata": {},
   "outputs": [
    {
     "data": {
      "text/html": [
       "<div>\n",
       "<style scoped>\n",
       "    .dataframe tbody tr th:only-of-type {\n",
       "        vertical-align: middle;\n",
       "    }\n",
       "\n",
       "    .dataframe tbody tr th {\n",
       "        vertical-align: top;\n",
       "    }\n",
       "\n",
       "    .dataframe thead th {\n",
       "        text-align: right;\n",
       "    }\n",
       "</style>\n",
       "<table border=\"1\" class=\"dataframe\">\n",
       "  <thead>\n",
       "    <tr style=\"text-align: right;\">\n",
       "      <th></th>\n",
       "      <th>Date</th>\n",
       "      <th>Open</th>\n",
       "      <th>High</th>\n",
       "      <th>Low</th>\n",
       "      <th>Close</th>\n",
       "      <th>Volume</th>\n",
       "      <th>Dividends</th>\n",
       "      <th>Stock Splits</th>\n",
       "    </tr>\n",
       "  </thead>\n",
       "  <tbody>\n",
       "    <tr>\n",
       "      <th>0</th>\n",
       "      <td>2010-06-29 00:00:00-04:00</td>\n",
       "      <td>1.266667</td>\n",
       "      <td>1.666667</td>\n",
       "      <td>1.169333</td>\n",
       "      <td>1.592667</td>\n",
       "      <td>281494500</td>\n",
       "      <td>0.0</td>\n",
       "      <td>0.0</td>\n",
       "    </tr>\n",
       "    <tr>\n",
       "      <th>1</th>\n",
       "      <td>2010-06-30 00:00:00-04:00</td>\n",
       "      <td>1.719333</td>\n",
       "      <td>2.028000</td>\n",
       "      <td>1.553333</td>\n",
       "      <td>1.588667</td>\n",
       "      <td>257806500</td>\n",
       "      <td>0.0</td>\n",
       "      <td>0.0</td>\n",
       "    </tr>\n",
       "    <tr>\n",
       "      <th>2</th>\n",
       "      <td>2010-07-01 00:00:00-04:00</td>\n",
       "      <td>1.666667</td>\n",
       "      <td>1.728000</td>\n",
       "      <td>1.351333</td>\n",
       "      <td>1.464000</td>\n",
       "      <td>123282000</td>\n",
       "      <td>0.0</td>\n",
       "      <td>0.0</td>\n",
       "    </tr>\n",
       "    <tr>\n",
       "      <th>3</th>\n",
       "      <td>2010-07-02 00:00:00-04:00</td>\n",
       "      <td>1.533333</td>\n",
       "      <td>1.540000</td>\n",
       "      <td>1.247333</td>\n",
       "      <td>1.280000</td>\n",
       "      <td>77097000</td>\n",
       "      <td>0.0</td>\n",
       "      <td>0.0</td>\n",
       "    </tr>\n",
       "    <tr>\n",
       "      <th>4</th>\n",
       "      <td>2010-07-06 00:00:00-04:00</td>\n",
       "      <td>1.333333</td>\n",
       "      <td>1.333333</td>\n",
       "      <td>1.055333</td>\n",
       "      <td>1.074000</td>\n",
       "      <td>103003500</td>\n",
       "      <td>0.0</td>\n",
       "      <td>0.0</td>\n",
       "    </tr>\n",
       "  </tbody>\n",
       "</table>\n",
       "</div>"
      ],
      "text/plain": [
       "                       Date      Open      High       Low     Close  \\\n",
       "0 2010-06-29 00:00:00-04:00  1.266667  1.666667  1.169333  1.592667   \n",
       "1 2010-06-30 00:00:00-04:00  1.719333  2.028000  1.553333  1.588667   \n",
       "2 2010-07-01 00:00:00-04:00  1.666667  1.728000  1.351333  1.464000   \n",
       "3 2010-07-02 00:00:00-04:00  1.533333  1.540000  1.247333  1.280000   \n",
       "4 2010-07-06 00:00:00-04:00  1.333333  1.333333  1.055333  1.074000   \n",
       "\n",
       "      Volume  Dividends  Stock Splits  \n",
       "0  281494500        0.0           0.0  \n",
       "1  257806500        0.0           0.0  \n",
       "2  123282000        0.0           0.0  \n",
       "3   77097000        0.0           0.0  \n",
       "4  103003500        0.0           0.0  "
      ]
     },
     "execution_count": 10,
     "metadata": {},
     "output_type": "execute_result"
    }
   ],
   "source": [
    "tsla_stock_data.head()"
   ]
  },
  {
   "cell_type": "markdown",
   "id": "8f90be56-1489-43d4-8f76-1d24e6b72267",
   "metadata": {},
   "source": [
    "### Extracting GameStop Stock Data Using yfinance "
   ]
  },
  {
   "cell_type": "markdown",
   "id": "31c97305-fcc0-4bf4-9978-d3d64c7fce58",
   "metadata": {},
   "source": [
    "Using the ticker function to enter the ticker symbol of the stock we want to extract data on. In this case which is the GameStop stock with ticker symbol GME"
   ]
  },
  {
   "cell_type": "code",
   "execution_count": 11,
   "id": "27cc36a4-8925-45ad-8000-73b4753dc1fd",
   "metadata": {},
   "outputs": [],
   "source": [
    "GameStop = yf.Ticker(\"GME\")"
   ]
  },
  {
   "cell_type": "markdown",
   "id": "803db4d4-aee2-42f3-a4af-81ffa7e596d9",
   "metadata": {},
   "source": [
    "using the ticker object and the function history, extract stock information and save it in a dataframe named GameStop_share_price_data. Set the period parameter to max so we get the information for the maximum amount of time."
   ]
  },
  {
   "cell_type": "code",
   "execution_count": 12,
   "id": "03e3b28c-d001-491f-9bdc-2ed2a77d84a4",
   "metadata": {},
   "outputs": [],
   "source": [
    "GameStop_data = GameStop.history(period=\"max\")"
   ]
  },
  {
   "cell_type": "markdown",
   "id": "15f1760a-44ea-4e70-b4d7-dce35923bc31",
   "metadata": {},
   "source": [
    "reset the index, save and display the first five rows of the GameStop_share_price_data dataframe using the head function."
   ]
  },
  {
   "cell_type": "code",
   "execution_count": 13,
   "id": "7c18eed5-74e2-4873-a10d-0cd1c4b9c4ec",
   "metadata": {},
   "outputs": [
    {
     "data": {
      "text/html": [
       "<div>\n",
       "<style scoped>\n",
       "    .dataframe tbody tr th:only-of-type {\n",
       "        vertical-align: middle;\n",
       "    }\n",
       "\n",
       "    .dataframe tbody tr th {\n",
       "        vertical-align: top;\n",
       "    }\n",
       "\n",
       "    .dataframe thead th {\n",
       "        text-align: right;\n",
       "    }\n",
       "</style>\n",
       "<table border=\"1\" class=\"dataframe\">\n",
       "  <thead>\n",
       "    <tr style=\"text-align: right;\">\n",
       "      <th></th>\n",
       "      <th>Date</th>\n",
       "      <th>Open</th>\n",
       "      <th>High</th>\n",
       "      <th>Low</th>\n",
       "      <th>Close</th>\n",
       "      <th>Volume</th>\n",
       "      <th>Dividends</th>\n",
       "      <th>Stock Splits</th>\n",
       "    </tr>\n",
       "  </thead>\n",
       "  <tbody>\n",
       "    <tr>\n",
       "      <th>0</th>\n",
       "      <td>2002-02-13 00:00:00-05:00</td>\n",
       "      <td>1.620128</td>\n",
       "      <td>1.693350</td>\n",
       "      <td>1.603296</td>\n",
       "      <td>1.691666</td>\n",
       "      <td>76216000</td>\n",
       "      <td>0.0</td>\n",
       "      <td>0.0</td>\n",
       "    </tr>\n",
       "    <tr>\n",
       "      <th>1</th>\n",
       "      <td>2002-02-14 00:00:00-05:00</td>\n",
       "      <td>1.712707</td>\n",
       "      <td>1.716073</td>\n",
       "      <td>1.670626</td>\n",
       "      <td>1.683250</td>\n",
       "      <td>11021600</td>\n",
       "      <td>0.0</td>\n",
       "      <td>0.0</td>\n",
       "    </tr>\n",
       "    <tr>\n",
       "      <th>2</th>\n",
       "      <td>2002-02-15 00:00:00-05:00</td>\n",
       "      <td>1.683250</td>\n",
       "      <td>1.687458</td>\n",
       "      <td>1.658001</td>\n",
       "      <td>1.674834</td>\n",
       "      <td>8389600</td>\n",
       "      <td>0.0</td>\n",
       "      <td>0.0</td>\n",
       "    </tr>\n",
       "    <tr>\n",
       "      <th>3</th>\n",
       "      <td>2002-02-19 00:00:00-05:00</td>\n",
       "      <td>1.666418</td>\n",
       "      <td>1.666418</td>\n",
       "      <td>1.578047</td>\n",
       "      <td>1.607504</td>\n",
       "      <td>7410400</td>\n",
       "      <td>0.0</td>\n",
       "      <td>0.0</td>\n",
       "    </tr>\n",
       "    <tr>\n",
       "      <th>4</th>\n",
       "      <td>2002-02-20 00:00:00-05:00</td>\n",
       "      <td>1.615920</td>\n",
       "      <td>1.662210</td>\n",
       "      <td>1.603296</td>\n",
       "      <td>1.662210</td>\n",
       "      <td>6892800</td>\n",
       "      <td>0.0</td>\n",
       "      <td>0.0</td>\n",
       "    </tr>\n",
       "  </tbody>\n",
       "</table>\n",
       "</div>"
      ],
      "text/plain": [
       "                       Date      Open      High       Low     Close    Volume  \\\n",
       "0 2002-02-13 00:00:00-05:00  1.620128  1.693350  1.603296  1.691666  76216000   \n",
       "1 2002-02-14 00:00:00-05:00  1.712707  1.716073  1.670626  1.683250  11021600   \n",
       "2 2002-02-15 00:00:00-05:00  1.683250  1.687458  1.658001  1.674834   8389600   \n",
       "3 2002-02-19 00:00:00-05:00  1.666418  1.666418  1.578047  1.607504   7410400   \n",
       "4 2002-02-20 00:00:00-05:00  1.615920  1.662210  1.603296  1.662210   6892800   \n",
       "\n",
       "   Dividends  Stock Splits  \n",
       "0        0.0           0.0  \n",
       "1        0.0           0.0  \n",
       "2        0.0           0.0  \n",
       "3        0.0           0.0  \n",
       "4        0.0           0.0  "
      ]
     },
     "execution_count": 13,
     "metadata": {},
     "output_type": "execute_result"
    }
   ],
   "source": [
    "GameStop_data.reset_index(inplace=True)\n",
    "GameStop_data.head()"
   ]
  },
  {
   "cell_type": "markdown",
   "id": "010b3537-747b-422b-aa41-11aac69f94e5",
   "metadata": {},
   "source": [
    "### Extracting Tesla Revenue Data Using Webscraping "
   ]
  },
  {
   "cell_type": "code",
   "execution_count": 14,
   "id": "cbd16e02-1a35-4d6c-a30c-4ad56ad24b51",
   "metadata": {},
   "outputs": [],
   "source": [
    "import pandas as pd\n",
    "import requests\n",
    "from bs4 import BeautifulSoup\n",
    "import warnings\n",
    "# Ignore all warnings\n",
    "warnings.filterwarnings(\"ignore\", category=FutureWarning)"
   ]
  },
  {
   "cell_type": "markdown",
   "id": "76e4375d-149b-4b5e-b7ab-0a46d97d420c",
   "metadata": {},
   "source": [
    "using the request library for sending an HTTP request to the web page.<br>"
   ]
  },
  {
   "cell_type": "code",
   "execution_count": 15,
   "id": "227f972b-0d36-4570-94be-3074cb471810",
   "metadata": {},
   "outputs": [],
   "source": [
    "url = \"https://cf-courses-data.s3.us.cloud-object-storage.appdomain.cloud/IBMDeveloperSkillsNetwork-PY0220EN-SkillsNetwork/labs/project/revenue.htm\" \n",
    "html_data  = requests.get(url).text"
   ]
  },
  {
   "cell_type": "markdown",
   "id": "63cacb15-6e45-46be-af8d-1e8320c98bcf",
   "metadata": {},
   "source": [
    "parse the html content"
   ]
  },
  {
   "cell_type": "code",
   "execution_count": 16,
   "id": "ce896b7c-f622-4423-84b8-ae997a8d85df",
   "metadata": {},
   "outputs": [],
   "source": [
    "soup = BeautifulSoup(html_data, 'html.parser')"
   ]
  },
  {
   "cell_type": "markdown",
   "id": "5ea95d6b-6303-4635-a436-bba33dcfa18a",
   "metadata": {},
   "source": [
    "create an empty DataFrame and iterate through rows in the table body"
   ]
  },
  {
   "cell_type": "code",
   "execution_count": 19,
   "id": "59cb4814-4f85-4ab0-bd17-96ae4b837405",
   "metadata": {},
   "outputs": [
    {
     "data": {
      "text/html": [
       "<div>\n",
       "<style scoped>\n",
       "    .dataframe tbody tr th:only-of-type {\n",
       "        vertical-align: middle;\n",
       "    }\n",
       "\n",
       "    .dataframe tbody tr th {\n",
       "        vertical-align: top;\n",
       "    }\n",
       "\n",
       "    .dataframe thead th {\n",
       "        text-align: right;\n",
       "    }\n",
       "</style>\n",
       "<table border=\"1\" class=\"dataframe\">\n",
       "  <thead>\n",
       "    <tr style=\"text-align: right;\">\n",
       "      <th></th>\n",
       "      <th>Date</th>\n",
       "      <th>Revenue</th>\n",
       "    </tr>\n",
       "  </thead>\n",
       "  <tbody>\n",
       "    <tr>\n",
       "      <th>49</th>\n",
       "      <td>2010-06-30</td>\n",
       "      <td>$28</td>\n",
       "    </tr>\n",
       "    <tr>\n",
       "      <th>50</th>\n",
       "      <td>2010-03-31</td>\n",
       "      <td>$21</td>\n",
       "    </tr>\n",
       "    <tr>\n",
       "      <th>51</th>\n",
       "      <td>2009-12-31</td>\n",
       "      <td></td>\n",
       "    </tr>\n",
       "    <tr>\n",
       "      <th>52</th>\n",
       "      <td>2009-09-30</td>\n",
       "      <td>$46</td>\n",
       "    </tr>\n",
       "    <tr>\n",
       "      <th>53</th>\n",
       "      <td>2009-06-30</td>\n",
       "      <td>$27</td>\n",
       "    </tr>\n",
       "  </tbody>\n",
       "</table>\n",
       "</div>"
      ],
      "text/plain": [
       "          Date Revenue\n",
       "49  2010-06-30     $28\n",
       "50  2010-03-31     $21\n",
       "51  2009-12-31        \n",
       "52  2009-09-30     $46\n",
       "53  2009-06-30     $27"
      ]
     },
     "execution_count": 19,
     "metadata": {},
     "output_type": "execute_result"
    }
   ],
   "source": [
    "tesla_revenue = pd.DataFrame(columns=[\"Date\", \"Revenue\"])\n",
    "for row in soup.find_all(\"tbody\")[1].find_all('tr'):\n",
    "    col = row.find_all(\"td\")\n",
    "    date = col[0].text\n",
    "    revenue = col[1].text\n",
    "     # Finally we append the data of each row to the table\n",
    "    tesla_revenue = pd.concat([tesla_revenue,pd.DataFrame({\"Date\":[date], \"Revenue\":[revenue]})], ignore_index=True)    \n",
    "tesla_revenue.tail()"
   ]
  },
  {
   "cell_type": "markdown",
   "id": "842c6db9-c170-43ea-a07e-bc37e4afa3ba",
   "metadata": {},
   "source": [
    "### Extracting GameStop Revenue Data Using Webscraping "
   ]
  },
  {
   "cell_type": "markdown",
   "id": "11a11c7d-23ca-485a-a1e2-38251f1e3e82",
   "metadata": {},
   "source": [
    "using the request library for sending an HTTP request to the web page.<br>"
   ]
  },
  {
   "cell_type": "code",
   "execution_count": 18,
   "id": "9795c5e7-3a4c-46c3-8ea4-88623f99c72b",
   "metadata": {},
   "outputs": [],
   "source": [
    "urle = \"https://cf-courses-data.s3.us.cloud-object-storage.appdomain.cloud/IBMDeveloperSkillsNetwork-PY0220EN-SkillsNetwork/labs/project/stock.html\"\n",
    "html_data_2 = requests.get(urle).text"
   ]
  },
  {
   "cell_type": "markdown",
   "id": "7621d3da-449c-457c-8fdd-553e7bd5d028",
   "metadata": {},
   "source": [
    "parse the html content"
   ]
  },
  {
   "cell_type": "code",
   "execution_count": 106,
   "id": "4a55b2a8-df67-4545-9856-954b6befcc42",
   "metadata": {},
   "outputs": [],
   "source": [
    "soup = BeautifulSoup(html_data_2, 'html.parser')"
   ]
  },
  {
   "cell_type": "markdown",
   "id": "56d097dd-e66f-4af4-a434-92a924a749f2",
   "metadata": {},
   "source": [
    "create an empty DataFrame and iterate through rows in the table body"
   ]
  },
  {
   "cell_type": "code",
   "execution_count": 18,
   "id": "90b1ab46-9656-4172-b42b-0cf71c234f1e",
   "metadata": {},
   "outputs": [
    {
     "data": {
      "text/html": [
       "<div>\n",
       "<style scoped>\n",
       "    .dataframe tbody tr th:only-of-type {\n",
       "        vertical-align: middle;\n",
       "    }\n",
       "\n",
       "    .dataframe tbody tr th {\n",
       "        vertical-align: top;\n",
       "    }\n",
       "\n",
       "    .dataframe thead th {\n",
       "        text-align: right;\n",
       "    }\n",
       "</style>\n",
       "<table border=\"1\" class=\"dataframe\">\n",
       "  <thead>\n",
       "    <tr style=\"text-align: right;\">\n",
       "      <th></th>\n",
       "      <th>Date</th>\n",
       "      <th>Revenue</th>\n",
       "    </tr>\n",
       "  </thead>\n",
       "  <tbody>\n",
       "    <tr>\n",
       "      <th>49</th>\n",
       "      <td>2010-06-30</td>\n",
       "      <td>$28</td>\n",
       "    </tr>\n",
       "    <tr>\n",
       "      <th>50</th>\n",
       "      <td>2010-03-31</td>\n",
       "      <td>$21</td>\n",
       "    </tr>\n",
       "    <tr>\n",
       "      <th>51</th>\n",
       "      <td>2009-12-31</td>\n",
       "      <td></td>\n",
       "    </tr>\n",
       "    <tr>\n",
       "      <th>52</th>\n",
       "      <td>2009-09-30</td>\n",
       "      <td>$46</td>\n",
       "    </tr>\n",
       "    <tr>\n",
       "      <th>53</th>\n",
       "      <td>2009-06-30</td>\n",
       "      <td>$27</td>\n",
       "    </tr>\n",
       "  </tbody>\n",
       "</table>\n",
       "</div>"
      ],
      "text/plain": [
       "          Date Revenue\n",
       "49  2010-06-30     $28\n",
       "50  2010-03-31     $21\n",
       "51  2009-12-31        \n",
       "52  2009-09-30     $46\n",
       "53  2009-06-30     $27"
      ]
     },
     "execution_count": 18,
     "metadata": {},
     "output_type": "execute_result"
    }
   ],
   "source": [
    "gamestop_revenue= pd.DataFrame(columns=[\"Date\", \"Revenue\"])\n",
    "for row in soup.find_all(\"tbody\")[1].find_all('tr'):\n",
    "    col = row.find_all(\"td\")\n",
    "    date = col[0].text\n",
    "    revenue = col[1].text\n",
    "     # Finally we append the data of each row to the table\n",
    "    gamestop_revenue = pd.concat([gamestop_revenue,pd.DataFrame({\"Date\":[date], \"Revenue\":[revenue]})], ignore_index=True)    \n",
    "gamestop_revenue.tail()"
   ]
  },
  {
   "cell_type": "markdown",
   "id": "8b431f35-2a7b-456c-ac12-33215c0de3ae",
   "metadata": {},
   "source": [
    "### GameStop Stock and Revenue Dashboard"
   ]
  },
  {
   "cell_type": "code",
   "execution_count": 108,
   "id": "57e770d5-16a3-407d-b9b3-6510b62b8932",
   "metadata": {},
   "outputs": [],
   "source": [
    "import yfinance as yf\n",
    "import pandas as pd\n",
    "import requests\n",
    "from bs4 import BeautifulSoup\n",
    "import plotly.graph_objects as go\n",
    "from plotly.subplots import make_subplots"
   ]
  },
  {
   "cell_type": "code",
   "execution_count": 21,
   "id": "65c5808e-0c0a-4474-a2de-90a71a0e9150",
   "metadata": {},
   "outputs": [],
   "source": [
    "import plotly.io as pio\n",
    "pio.renderers.default = \"iframe\"\n",
    "import warnings\n",
    "# Ignore all warnings\n",
    "warnings.filterwarnings(\"ignore\", category=FutureWarning)"
   ]
  },
  {
   "cell_type": "code",
   "execution_count": 38,
   "id": "3da183a9-4c2e-4e90-a269-fa9411193942",
   "metadata": {},
   "outputs": [],
   "source": [
    "# Keep only Date and Close columns\n",
    "GameStop_data = GameStop_data[[\"Date\", \"Close\"]]\n",
    "GameStop_data[\"Date\"] = pd.to_datetime(GameStop_data[\"Date\"])\n",
    "GameStop_data[\"Date\"] = pd.to_datetime(GameStop_data[\"Date\"])\n",
    "\n",
    "#Define Graphing Function\n",
    "\n",
    "def make_graph(stock_data, revenue_data, stock):\n",
    "    fig = make_subplots(rows=2, cols=1, shared_xaxes=True, subplot_titles=(\"Historical Share Price\", \"Historical Revenue\"), vertical_spacing = .3)\n",
    "    stock_data_specific = stock_data[stock_data.Date <= '2021-06-14']\n",
    "    revenue_data_specific = revenue_data[revenue_data.Date <= '2021-04-30']\n",
    "    fig.add_trace(go.Scatter(x=pd.to_datetime(stock_data_specific.Date, infer_datetime_format=True), y=stock_data_specific.Close.astype(\"float\"), name=\"Share Price\"), row=1, col=1)\n",
    "    fig.add_trace(go.Scatter(x=pd.to_datetime(revenue_data_specific.Date, infer_datetime_format=True), y=revenue_data_specific.Revenue.astype(\"float\"), name=\"Revenue\"), row=2, col=1)\n",
    "    fig.update_xaxes(title_text=\"Date\", row=1, col=1)\n",
    "    fig.update_xaxes(title_text=\"Date\", row=2, col=1)\n",
    "    fig.update_yaxes(title_text=\"Price ($US)\", row=1, col=1)\n",
    "    fig.update_yaxes(title_text=\"Revenue ($US Millions)\", row=2, col=1)\n",
    "    fig.update_layout(showlegend=False,\n",
    "    height=900,\n",
    "    title=stock,\n",
    "    xaxis_rangeslider_visible=True)\n",
    "    fig.show()\n",
    "    from IPython.display import display, HTML\n",
    "    fig_html = fig.to_html()\n",
    "    display(HTML(fig_html))\n",
    "#make_graph(GameStop_data, gamestop_revenue, 'gamestop')\n"
   ]
  },
  {
   "cell_type": "markdown",
   "id": "b30655d1-54fd-4197-ac7f-594b242f10f8",
   "metadata": {},
   "source": [
    "### Tesla Stock and Revenue Dashboard"
   ]
  },
  {
   "cell_type": "code",
   "execution_count": 33,
   "id": "179be287-5fe0-41ca-84ef-3bbcb4764476",
   "metadata": {},
   "outputs": [],
   "source": [
    "import yfinance as yf\n",
    "import pandas as pd\n",
    "import requests\n",
    "from bs4 import BeautifulSoup\n",
    "import plotly.graph_objects as go\n",
    "from plotly.subplots import make_subplots"
   ]
  },
  {
   "cell_type": "code",
   "execution_count": 34,
   "id": "80af1ed0-1bab-4d12-98cc-18e42d5e2007",
   "metadata": {},
   "outputs": [],
   "source": [
    "import plotly.io as pio\n",
    "pio.renderers.default = \"iframe\"\n",
    "import warnings\n",
    "# Ignore all warnings\n",
    "warnings.filterwarnings(\"ignore\", category=FutureWarning)"
   ]
  },
  {
   "cell_type": "code",
   "execution_count": 39,
   "id": "38b5271d-80e7-43f2-8459-ab155b229a95",
   "metadata": {},
   "outputs": [],
   "source": [
    "# Keep only Date and Close columns\n",
    "tsla_stock_data = tsla_stock_data[[\"Date\", \"Close\"]]\n",
    "tsla_stock_data[\"Date\"] = pd.to_datetime(tsla_stock_data[\"Date\"])\n",
    "\n",
    "#Define Graphing Function\n",
    "\n",
    "def make_graph(stock_data, revenue_data, stock):\n",
    "    fig = make_subplots(rows=2, cols=1, shared_xaxes=True, subplot_titles=(\"Historical Share Price\", \"Historical Revenue\"), vertical_spacing = .3)\n",
    "    stock_data_specific = stock_data[stock_data.Date <= '2021-06-14']\n",
    "    revenue_data_specific = revenue_data[revenue_data.Date <= '2021-04-30']\n",
    "    fig.add_trace(go.Scatter(x=pd.to_datetime(stock_data_specific.Date, infer_datetime_format=True), y=stock_data_specific.Close.astype(\"float\"), name=\"Share Price\"), row=1, col=1)\n",
    "    fig.add_trace(go.Scatter(x=pd.to_datetime(revenue_data_specific.Date, infer_datetime_format=True), y=revenue_data_specific.Revenue.astype(\"float\"), name=\"Revenue\"), row=2, col=1)\n",
    "    fig.update_xaxes(title_text=\"Date\", row=1, col=1)\n",
    "    fig.update_xaxes(title_text=\"Date\", row=2, col=1)\n",
    "    fig.update_yaxes(title_text=\"Price ($US)\", row=1, col=1)\n",
    "    fig.update_yaxes(title_text=\"Revenue ($US Millions)\", row=2, col=1)\n",
    "    fig.update_layout(showlegend=False,\n",
    "    height=900,\n",
    "    title=stock,\n",
    "    xaxis_rangeslider_visible=True)\n",
    "    fig.show()\n",
    "    from IPython.display import display, HTML\n",
    "    fig_html = fig.to_html()\n",
    "    display(HTML(fig_html))\n",
    "#make_graph(tsla_stock_data, tesla_revenue, 'tesla')\n"
   ]
  },
  {
   "cell_type": "code",
   "execution_count": null,
   "id": "c4f36815-28cd-4194-8c89-c85d1e65c9ab",
   "metadata": {},
   "outputs": [],
   "source": []
  }
 ],
 "metadata": {
  "kernelspec": {
   "display_name": "Python 3 (ipykernel)",
   "language": "python",
   "name": "python3"
  },
  "language_info": {
   "codemirror_mode": {
    "name": "ipython",
    "version": 3
   },
   "file_extension": ".py",
   "mimetype": "text/x-python",
   "name": "python",
   "nbconvert_exporter": "python",
   "pygments_lexer": "ipython3",
   "version": "3.12.8"
  }
 },
 "nbformat": 4,
 "nbformat_minor": 5
}
